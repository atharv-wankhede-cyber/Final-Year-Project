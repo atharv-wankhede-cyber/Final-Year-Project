{
 "cells": [
  {
   "cell_type": "code",
   "execution_count": 1,
   "metadata": {},
   "outputs": [
    {
     "name": "stdout",
     "output_type": "stream",
     "text": [
      "Selected Features:\n",
      "['S2_F7', 'S2_F9', 'S2_F8', 'S1_F10', 'S2_F10', 'S1_F11', 'S1_F3', 'S1_F4', 'S1_F13', 'S1_F9']\n"
     ]
    }
   ],
   "source": [
    "import pandas as pd\n",
    "import numpy as np\n",
    "from sklearn.model_selection import train_test_split\n",
    "from sklearn.ensemble import RandomForestClassifier\n",
    "\n",
    "# Load your dataset (replace 'your_dataset.csv' with the actual file path)\n",
    "data = pd.read_csv(r'C:\\Users\\athar\\Downloads\\Processed_final_data.csv')\n",
    "\n",
    "# Convert 'Fault' into binary categorical variable\n",
    "threshold = 0  # Set your threshold based on the actual data distribution\n",
    "data['Fault'] = np.where(data['Fault'] > threshold, 1, 0)\n",
    "\n",
    "# Split the data\n",
    "X_train, X_test, y_train, y_test = train_test_split(\n",
    "    data.drop([\"Fault\"], axis=1),\n",
    "    data[\"Fault\"],\n",
    "    test_size=0.33,\n",
    "    random_state=42\n",
    ")\n",
    "\n",
    "# Train Random Forest classifier\n",
    "clf_rf = RandomForestClassifier(n_estimators=100, max_depth=2, random_state=0)\n",
    "clf_rf.fit(X_train, y_train)\n",
    "\n",
    "# Get feature importances\n",
    "feature_importances = clf_rf.feature_importances_\n",
    "\n",
    "# Create a DataFrame with feature names and their importance scores\n",
    "feature_importance_df = pd.DataFrame({\n",
    "    'Feature': X_train.columns,\n",
    "    'Importance': feature_importances\n",
    "})\n",
    "\n",
    "# Sort features by importance in descending order\n",
    "feature_importance_df = feature_importance_df.sort_values(by='Importance', ascending=False)\n",
    "\n",
    "# Display the top N features\n",
    "top_n = 10  # Set the number of top features you want to keep\n",
    "selected_features = feature_importance_df.head(top_n)['Feature'].tolist()\n",
    "\n",
    "# Print the selected features\n",
    "print(\"Selected Features:\")\n",
    "print(selected_features)\n"
   ]
  }
 ],
 "metadata": {
  "kernelspec": {
   "display_name": "base",
   "language": "python",
   "name": "python3"
  },
  "language_info": {
   "codemirror_mode": {
    "name": "ipython",
    "version": 3
   },
   "file_extension": ".py",
   "mimetype": "text/x-python",
   "name": "python",
   "nbconvert_exporter": "python",
   "pygments_lexer": "ipython3",
   "version": "3.9.16"
  }
 },
 "nbformat": 4,
 "nbformat_minor": 2
}
